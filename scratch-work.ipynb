{
 "cells": [
  {
   "cell_type": "code",
   "execution_count": 33,
   "metadata": {},
   "outputs": [],
   "source": [
    "import pandas as pd\n",
    "import numpy as np"
   ]
  },
  {
   "cell_type": "code",
   "execution_count": 34,
   "metadata": {},
   "outputs": [],
   "source": [
    "def readArff(filename):\n",
    "    with open ('./UCI-Data/'+filename+'.arff', 'r') as f:\n",
    "        # split lines, remove ones with comments\n",
    "        lines = [line.lower() for line in f.read().split('\\n') if not line.startswith('%')]\n",
    "        \n",
    "    # remove empty lines\n",
    "    lines = [line for line in lines if line != '']\n",
    "    \n",
    "    columns = []\n",
    "    data = []\n",
    "    for index, line in enumerate(lines):\n",
    "        if line.startswith('@attribute'):\n",
    "            columns.append(line)\n",
    "            \n",
    "        if line.startswith('@data'):\n",
    "            # get the rest of the lines excluding the one that says @data\n",
    "            data = lines[index+1:]\n",
    "            break\n",
    "            \n",
    "    # clean column names -- '@attribute colname  \\t\\t\\t{a, b, ...}'\n",
    "    cleaned_columns = [c[11:c.index('real')].strip() for c in columns[:-1]]\n",
    "    \n",
    "    # ** change for real values. skip last column and parse differently\n",
    "    class_val = columns[-1]\n",
    "    cleaned_columns.append(class_val[11:class_val.index('{')].strip())\n",
    "    \n",
    "    # clean and split data\n",
    "    cleaned_data = [d.replace(', ', ',').split(',') for d in data]\n",
    "    \n",
    "    # create dataframe\n",
    "    return pd.DataFrame(cleaned_data, columns = cleaned_columns)"
   ]
  },
  {
   "cell_type": "code",
   "execution_count": 79,
   "metadata": {},
   "outputs": [],
   "source": [
    "def preprocess_data(df):\n",
    "    ys = df.iloc[:,-1]\n",
    "    ys = ys.values\n",
    "    \n",
    "    # change xs to 2d numpy array -- convert strings to floats\n",
    "    xs = df.iloc[:,:-1].astype(float)\n",
    "    xs = xs.values\n",
    "    \n",
    "    return xs, ys"
   ]
  },
  {
   "cell_type": "code",
   "execution_count": 80,
   "metadata": {
    "scrolled": true
   },
   "outputs": [],
   "source": [
    "X, y = preprocess_data(readArff(\"iris\"))"
   ]
  },
  {
   "cell_type": "code",
   "execution_count": 81,
   "metadata": {},
   "outputs": [
    {
     "data": {
      "text/plain": [
       "3"
      ]
     },
     "execution_count": 81,
     "metadata": {},
     "output_type": "execute_result"
    }
   ],
   "source": [
    "k = len(set(y))\n",
    "k"
   ]
  },
  {
   "cell_type": "code",
   "execution_count": 130,
   "metadata": {},
   "outputs": [],
   "source": [
    "def initialize_centroids(X, k):\n",
    "    \"\"\"\n",
    "    Returns a matrix representing k randomly chosen instances for the initial centroids\n",
    "    \"\"\"\n",
    "    n_instances, n_features = np.shape(X)\n",
    "    centroids = np.zeros((k, n_features))\n",
    "    \n",
    "    for i in range(k):\n",
    "        # make sure they aren't the same?\n",
    "        centroid = X[np.random.choice(range(n_instances))]\n",
    "        centroids[i] = centroid\n",
    "        \n",
    "    return centroids"
   ]
  },
  {
   "cell_type": "code",
   "execution_count": 131,
   "metadata": {},
   "outputs": [
    {
     "data": {
      "text/plain": [
       "array([[6.8, 3.2, 5.9, 2.3],\n",
       "       [4.8, 3.4, 1.6, 0.2],\n",
       "       [6.3, 2.3, 4.4, 1.3]])"
      ]
     },
     "execution_count": 131,
     "metadata": {},
     "output_type": "execute_result"
    }
   ],
   "source": [
    "centroids = initialize_centroids(X,k)\n",
    "centroids"
   ]
  },
  {
   "cell_type": "code",
   "execution_count": 132,
   "metadata": {},
   "outputs": [],
   "source": [
    "def euclidean_distance(x1, x2):\n",
    "    \"\"\" Calculates the euclidean distance between two points \"\"\"\n",
    "    assert np.size(x1) == np.size(x2)\n",
    "\n",
    "    # Squared distance between each coordinate\n",
    "    distances = np.square(x1 - x2)\n",
    "    return np.sqrt(sum(distances))"
   ]
  },
  {
   "cell_type": "code",
   "execution_count": 133,
   "metadata": {},
   "outputs": [
    {
     "data": {
      "text/plain": [
       "5.2573757712379665"
      ]
     },
     "execution_count": 133,
     "metadata": {},
     "output_type": "execute_result"
    }
   ],
   "source": [
    "euclidean_distance(X[0], centroids[0])"
   ]
  },
  {
   "cell_type": "code",
   "execution_count": 135,
   "metadata": {},
   "outputs": [],
   "source": [
    "def find_nearest_centroid(instance, centroids):\n",
    "    \"\"\"\n",
    "    Helper method for create_clusters.\n",
    "    \n",
    "    Returns the index of the closest centroid for a given instance\n",
    "    Distance measured using euclidean_distance\n",
    "    \"\"\"\n",
    "    closest = -1\n",
    "    closest_dist = float('inf')\n",
    "    for i, c in enumerate(centroids):\n",
    "        dist = euclidean_distance(instance, c)\n",
    "        if dist < closest_dist:\n",
    "            closest_dist = dist\n",
    "            closest = i\n",
    "    return closest"
   ]
  },
  {
   "cell_type": "code",
   "execution_count": 218,
   "metadata": {},
   "outputs": [],
   "source": [
    "def create_clusters(X, k, centroids):\n",
    "    \"\"\"\n",
    "    Returns a list of k-lists, each containing the indices of instances that are closest to the centroid\n",
    "    \n",
    "    ** stop storing the instances themselves it wastes space\n",
    "    \"\"\"\n",
    "    n_instances, n_features = np.shape(X)\n",
    "    clusters = [[] for _ in range(k)]     # create clusters of centroids\n",
    "    \n",
    "    for i, x_i in enumerate(X):\n",
    "        centroid_idx = find_nearest_centroid(x_i, centroids)\n",
    "        clusters[centroid_idx].append(i)\n",
    "    \n",
    "    assert sum([len(c) for c in clusters]) == n_instances # sanity check\n",
    "    \n",
    "    return clusters\n",
    "    # turn list of np.arrays into list of 2D arrays\n",
    "#     return [np.reshape(c, newshape = (len(c), n_features)) for c in clusters]"
   ]
  },
  {
   "cell_type": "code",
   "execution_count": 219,
   "metadata": {},
   "outputs": [
    {
     "data": {
      "text/plain": [
       "[[100,\n",
       "  102,\n",
       "  103,\n",
       "  104,\n",
       "  105,\n",
       "  107,\n",
       "  108,\n",
       "  109,\n",
       "  110,\n",
       "  111,\n",
       "  112,\n",
       "  114,\n",
       "  115,\n",
       "  116,\n",
       "  117,\n",
       "  118,\n",
       "  120,\n",
       "  122,\n",
       "  124,\n",
       "  125,\n",
       "  128,\n",
       "  129,\n",
       "  130,\n",
       "  131,\n",
       "  132,\n",
       "  135,\n",
       "  136,\n",
       "  137,\n",
       "  139,\n",
       "  140,\n",
       "  141,\n",
       "  143,\n",
       "  144,\n",
       "  145,\n",
       "  147,\n",
       "  148],\n",
       " [0,\n",
       "  1,\n",
       "  2,\n",
       "  3,\n",
       "  4,\n",
       "  5,\n",
       "  6,\n",
       "  7,\n",
       "  8,\n",
       "  9,\n",
       "  10,\n",
       "  11,\n",
       "  12,\n",
       "  13,\n",
       "  14,\n",
       "  15,\n",
       "  16,\n",
       "  17,\n",
       "  18,\n",
       "  19,\n",
       "  20,\n",
       "  21,\n",
       "  22,\n",
       "  23,\n",
       "  24,\n",
       "  25,\n",
       "  26,\n",
       "  27,\n",
       "  28,\n",
       "  29,\n",
       "  30,\n",
       "  31,\n",
       "  32,\n",
       "  33,\n",
       "  34,\n",
       "  35,\n",
       "  36,\n",
       "  37,\n",
       "  38,\n",
       "  39,\n",
       "  40,\n",
       "  41,\n",
       "  42,\n",
       "  43,\n",
       "  44,\n",
       "  45,\n",
       "  46,\n",
       "  47,\n",
       "  48,\n",
       "  49],\n",
       " [50,\n",
       "  51,\n",
       "  52,\n",
       "  53,\n",
       "  54,\n",
       "  55,\n",
       "  56,\n",
       "  57,\n",
       "  58,\n",
       "  59,\n",
       "  60,\n",
       "  61,\n",
       "  62,\n",
       "  63,\n",
       "  64,\n",
       "  65,\n",
       "  66,\n",
       "  67,\n",
       "  68,\n",
       "  69,\n",
       "  70,\n",
       "  71,\n",
       "  72,\n",
       "  73,\n",
       "  74,\n",
       "  75,\n",
       "  76,\n",
       "  77,\n",
       "  78,\n",
       "  79,\n",
       "  80,\n",
       "  81,\n",
       "  82,\n",
       "  83,\n",
       "  84,\n",
       "  85,\n",
       "  86,\n",
       "  87,\n",
       "  88,\n",
       "  89,\n",
       "  90,\n",
       "  91,\n",
       "  92,\n",
       "  93,\n",
       "  94,\n",
       "  95,\n",
       "  96,\n",
       "  97,\n",
       "  98,\n",
       "  99,\n",
       "  101,\n",
       "  106,\n",
       "  113,\n",
       "  119,\n",
       "  121,\n",
       "  123,\n",
       "  126,\n",
       "  127,\n",
       "  133,\n",
       "  134,\n",
       "  138,\n",
       "  142,\n",
       "  146,\n",
       "  149]]"
      ]
     },
     "execution_count": 219,
     "metadata": {},
     "output_type": "execute_result"
    }
   ],
   "source": [
    "clusters = create_clusters(X, k, centroids)\n",
    "clusters"
   ]
  },
  {
   "cell_type": "code",
   "execution_count": 220,
   "metadata": {},
   "outputs": [],
   "source": [
    "# for each cluster 1...k, calculate new centroid = mean of all points assigned to that cluster\n",
    "def update_centroids(X, k, clusters):\n",
    "    n_features = np.shape(X)[1]\n",
    "    new_centroids = np.zeros((k, n_features))\n",
    "    \n",
    "    for i, clstr in enumerate(clusters):\n",
    "        centroid = np.mean(X[clstr], axis=0)\n",
    "        new_centroids[i] = centroid\n",
    "    return new_centroids"
   ]
  },
  {
   "cell_type": "code",
   "execution_count": 212,
   "metadata": {},
   "outputs": [
    {
     "data": {
      "text/plain": [
       "array([[ 0.04444444, -0.11944444, -0.12777778, -0.175     ],\n",
       "       [ 0.206     ,  0.018     , -0.136     ,  0.044     ],\n",
       "       [-0.365625  ,  0.4546875 ,  0.01875   ,  0.1234375 ]])"
      ]
     },
     "execution_count": 212,
     "metadata": {},
     "output_type": "execute_result"
    }
   ],
   "source": [
    "new_centroids = update_centroids(X, k, clusters)\n",
    "delta = new_centroids - centroids\n",
    "delta"
   ]
  },
  {
   "cell_type": "code",
   "execution_count": 242,
   "metadata": {},
   "outputs": [],
   "source": [
    "def predict(X):\n",
    "    centroids = initialize_centroids(X, k)\n",
    "    \n",
    "    for _ in range(100):\n",
    "        clusters = create_clusters(X, k, centroids)\n",
    "        \n",
    "        prev_centroids = centroids\n",
    "        \n",
    "        centroids = update_centroids(X, k, clusters)\n",
    "       \n",
    "        # If no centroids have changed => convergence\n",
    "        delta = centroids - prev_centroids\n",
    "        if np.all((delta == 0)):\n",
    "            break\n",
    "    return centroids"
   ]
  },
  {
   "cell_type": "code",
   "execution_count": 243,
   "metadata": {},
   "outputs": [
    {
     "data": {
      "text/plain": [
       "array([[5.88360656, 2.74098361, 4.38852459, 1.43442623],\n",
       "       [5.006     , 3.418     , 1.464     , 0.244     ],\n",
       "       [6.85384615, 3.07692308, 5.71538462, 2.05384615]])"
      ]
     },
     "execution_count": 243,
     "metadata": {},
     "output_type": "execute_result"
    }
   ],
   "source": [
    "predict(X)"
   ]
  },
  {
   "cell_type": "code",
   "execution_count": null,
   "metadata": {},
   "outputs": [],
   "source": []
  },
  {
   "cell_type": "code",
   "execution_count": null,
   "metadata": {},
   "outputs": [],
   "source": []
  }
 ],
 "metadata": {
  "kernelspec": {
   "display_name": "Python 3",
   "language": "python",
   "name": "python3"
  },
  "language_info": {
   "codemirror_mode": {
    "name": "ipython",
    "version": 3
   },
   "file_extension": ".py",
   "mimetype": "text/x-python",
   "name": "python",
   "nbconvert_exporter": "python",
   "pygments_lexer": "ipython3",
   "version": "3.7.0"
  }
 },
 "nbformat": 4,
 "nbformat_minor": 2
}
